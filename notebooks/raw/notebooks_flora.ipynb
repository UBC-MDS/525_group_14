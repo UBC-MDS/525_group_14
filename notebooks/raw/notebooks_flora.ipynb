{
 "cells": [
  {
   "attachments": {},
   "cell_type": "markdown",
   "metadata": {},
   "source": [
    "# DSCI 525 - Web and Cloud Computing\n",
    "\n",
    "## Group 14\n",
    "- \tNishar\tDhruvi\t\n",
    "- \tOuedraogo Flora\n",
    "- \tHong\tEyre\n",
    "- \tKohli\tManvir"
   ]
  },
  {
   "cell_type": "code",
   "execution_count": 56,
   "metadata": {},
   "outputs": [],
   "source": [
    "import re\n",
    "import os\n",
    "import glob\n",
    "import zipfile\n",
    "import requests\n",
    "from urllib.request import urlretrieve\n",
    "import json\n",
    "import pandas as pd"
   ]
  },
  {
   "cell_type": "code",
   "execution_count": 57,
   "metadata": {},
   "outputs": [
    {
     "name": "stdout",
     "output_type": "stream",
     "text": [
      "/Users/floraouedraogo/Documents/DSCI/DSCI 525/figshareexp\n"
     ]
    }
   ],
   "source": [
    "\n",
    "\n",
    "# change to the directory that you want to download\n",
    "%cd /Users/floraouedraogo/Documents/DSCI/DSCI 525/figshareexp"
   ]
  },
  {
   "cell_type": "code",
   "execution_count": 58,
   "metadata": {},
   "outputs": [],
   "source": [
    "# Necessary metadata\n",
    "article_id = 14096681  # this is the unique identifier of the article on figshare\n",
    "url = f\"https://api.figshare.com/v2/articles/{article_id}\"\n",
    "headers = {\"Content-Type\": \"application/json\"}\n",
    "output_directory = \"figsharerainfall/\""
   ]
  },
  {
   "cell_type": "code",
   "execution_count": 59,
   "metadata": {},
   "outputs": [
    {
     "data": {
      "text/plain": [
       "[{'id': 26579150,\n",
       "  'name': 'daily_rainfall_2014.png',\n",
       "  'size': 58863,\n",
       "  'is_link_only': False,\n",
       "  'download_url': 'https://ndownloader.figshare.com/files/26579150',\n",
       "  'supplied_md5': 'fd32a2ffde300a31f8d63b1825d47e5e',\n",
       "  'computed_md5': 'fd32a2ffde300a31f8d63b1825d47e5e'},\n",
       " {'id': 26579171,\n",
       "  'name': 'environment.yml',\n",
       "  'size': 192,\n",
       "  'is_link_only': False,\n",
       "  'download_url': 'https://ndownloader.figshare.com/files/26579171',\n",
       "  'supplied_md5': '060b2020017eed93a1ee7dd8c65b2f34',\n",
       "  'computed_md5': '060b2020017eed93a1ee7dd8c65b2f34'},\n",
       " {'id': 26586554,\n",
       "  'name': 'README.md',\n",
       "  'size': 5422,\n",
       "  'is_link_only': False,\n",
       "  'download_url': 'https://ndownloader.figshare.com/files/26586554',\n",
       "  'supplied_md5': '61858c6cc0e6a6d6663a7e4c75bbd88c',\n",
       "  'computed_md5': '61858c6cc0e6a6d6663a7e4c75bbd88c'},\n",
       " {'id': 26766812,\n",
       "  'name': 'data.zip',\n",
       "  'size': 814041183,\n",
       "  'is_link_only': False,\n",
       "  'download_url': 'https://ndownloader.figshare.com/files/26766812',\n",
       "  'supplied_md5': 'b517383f76e77bd03755a63a8ff83ee9',\n",
       "  'computed_md5': 'b517383f76e77bd03755a63a8ff83ee9'},\n",
       " {'id': 26766815,\n",
       "  'name': 'get_data.py',\n",
       "  'size': 4113,\n",
       "  'is_link_only': False,\n",
       "  'download_url': 'https://ndownloader.figshare.com/files/26766815',\n",
       "  'supplied_md5': '7829028495fd9dec9680ea013474afa6',\n",
       "  'computed_md5': '7829028495fd9dec9680ea013474afa6'}]"
      ]
     },
     "execution_count": 59,
     "metadata": {},
     "output_type": "execute_result"
    }
   ],
   "source": [
    "response = requests.request(\"GET\", url, headers=headers)\n",
    "data = json.loads(response.text)  # this contains all the articles data, feel free to check it out\n",
    "files = data[\"files\"]             # this is just the data about the files, which is what we want\n",
    "files\n"
   ]
  },
  {
   "cell_type": "code",
   "execution_count": 60,
   "metadata": {},
   "outputs": [
    {
     "name": "stdout",
     "output_type": "stream",
     "text": [
      "CPU times: user 3.41 s, sys: 7.23 s, total: 10.6 s\n",
      "Wall time: 1min 26s\n"
     ]
    }
   ],
   "source": [
    "\n",
    "%%time\n",
    "files_to_dl = [\"data.zip\"]  # feel free to add other files here\n",
    "for file in files:\n",
    "    if file[\"name\"] in files_to_dl:\n",
    "        os.makedirs(output_directory, exist_ok=True)\n",
    "        urlretrieve(file[\"download_url\"], output_directory + file[\"name\"])"
   ]
  },
  {
   "cell_type": "code",
   "execution_count": 61,
   "metadata": {},
   "outputs": [
    {
     "name": "stdout",
     "output_type": "stream",
     "text": [
      "CPU times: user 7.8 s, sys: 1.13 s, total: 8.92 s\n",
      "Wall time: 10.4 s\n"
     ]
    }
   ],
   "source": [
    "%%time\n",
    "with zipfile.ZipFile(os.path.join(output_directory, \"data.zip\"), 'r') as f:\n",
    "    f.extractall(output_directory)"
   ]
  },
  {
   "cell_type": "code",
   "execution_count": 62,
   "metadata": {},
   "outputs": [
    {
     "name": "stdout",
     "output_type": "stream",
     "text": [
      "total 12428672\n",
      "drwxr-xr-x@ 30 floraouedraogo  staff        960 Mar 30 00:18 \u001b[1m\u001b[34m__MACOSX\u001b[m\u001b[m/\n",
      "-rw-r--r--   1 floraouedraogo  staff  814041183 Mar 30 15:12 data.zip\n",
      "-rw-r--r--   1 floraouedraogo  staff   95376895 Mar 30 15:12 MPI-ESM-1-2-HAM_daily_rainfall_NSW.csv\n",
      "-rw-r--r--   1 floraouedraogo  staff   94960113 Mar 30 15:12 AWI-ESM-1-1-LR_daily_rainfall_NSW.csv\n",
      "-rw-r--r--   1 floraouedraogo  staff   82474546 Mar 30 15:12 NorESM2-LM_daily_rainfall_NSW.csv\n",
      "-rw-r--r--   1 floraouedraogo  staff  127613760 Mar 30 15:12 ACCESS-CM2_daily_rainfall_NSW.csv\n",
      "-rw-r--r--   1 floraouedraogo  staff  232118894 Mar 30 15:12 FGOALS-f3-L_daily_rainfall_NSW.csv\n",
      "-rw-r--r--   1 floraouedraogo  staff  330360682 Mar 30 15:12 CMCC-CM2-HR4_daily_rainfall_NSW.csv\n",
      "-rw-r--r--   1 floraouedraogo  staff  254009247 Mar 30 15:12 MRI-ESM2-0_daily_rainfall_NSW.csv\n",
      "-rw-r--r--   1 floraouedraogo  staff  235661418 Mar 30 15:12 GFDL-CM4_daily_rainfall_NSW.csv\n",
      "-rw-r--r--   1 floraouedraogo  staff  294260911 Mar 30 15:12 BCC-CSM2-MR_daily_rainfall_NSW.csv\n",
      "-rw-r--r--   1 floraouedraogo  staff  295768615 Mar 30 15:12 EC-Earth3-Veg-LR_daily_rainfall_NSW.csv\n",
      "-rw-r--r--   1 floraouedraogo  staff  328852379 Mar 30 15:12 CMCC-ESM2_daily_rainfall_NSW.csv\n",
      "-rw-r--r--   1 floraouedraogo  staff   67784105 Mar 30 15:12 NESM3_daily_rainfall_NSW.csv\n",
      "-rw-r--r--   1 floraouedraogo  staff   95640682 Mar 30 15:12 MPI-ESM1-2-LR_daily_rainfall_NSW.csv\n",
      "-rw-r--r--   1 floraouedraogo  staff  114707410 Mar 30 15:12 ACCESS-ESM1-5_daily_rainfall_NSW.csv\n",
      "-rw-r--r--   1 floraouedraogo  staff  116179272 Mar 30 15:12 FGOALS-g3_daily_rainfall_NSW.csv\n",
      "-rw-r--r--   1 floraouedraogo  staff  102517965 Mar 30 15:12 INM-CM4-8_daily_rainfall_NSW.csv\n",
      "-rw-r--r--   1 floraouedraogo  staff  515458033 Mar 30 15:12 MPI-ESM1-2-HR_daily_rainfall_NSW.csv\n",
      "-rw-r--r--   1 floraouedraogo  staff  332813281 Mar 30 15:12 TaiESM1_daily_rainfall_NSW.csv\n",
      "-rw-r--r--   1 floraouedraogo  staff  337555851 Mar 30 15:12 NorESM2-MM_daily_rainfall_NSW.csv\n",
      "-rw-r--r--   1 floraouedraogo  staff  328787320 Mar 30 15:12 CMCC-CM2-SR5_daily_rainfall_NSW.csv\n",
      "-rw-r--r--   1 floraouedraogo  staff     952202 Mar 30 15:12 observed_daily_rainfall_SYD.csv\n",
      "-rw-r--r--   1 floraouedraogo  staff   93829697 Mar 30 15:12 KIOST-ESM_daily_rainfall_NSW.csv\n",
      "-rw-r--r--   1 floraouedraogo  staff  102692289 Mar 30 15:12 INM-CM5-0_daily_rainfall_NSW.csv\n",
      "-rw-r--r--   1 floraouedraogo  staff  206822938 Mar 30 15:12 MIROC6_daily_rainfall_NSW.csv\n",
      "-rw-r--r--   1 floraouedraogo  staff   55224437 Mar 30 15:12 BCC-ESM1_daily_rainfall_NSW.csv\n",
      "-rw-r--r--   1 floraouedraogo  staff  124586961 Mar 30 15:12 GFDL-ESM4_daily_rainfall_NSW.csv\n",
      "-rw-r--r--   1 floraouedraogo  staff   46286371 Mar 30 15:12 CanESM5_daily_rainfall_NSW.csv\n",
      "-rw-r--r--   1 floraouedraogo  staff  333489879 Mar 30 15:12 SAM0-UNICON_daily_rainfall_NSW.csv\n"
     ]
    }
   ],
   "source": [
    "\n",
    "%ls -ltr figsharerainfall/"
   ]
  },
  {
   "attachments": {},
   "cell_type": "markdown",
   "metadata": {},
   "source": [
    "Combining data CSVs"
   ]
  },
  {
   "cell_type": "code",
   "execution_count": 63,
   "metadata": {},
   "outputs": [
    {
     "name": "stdout",
     "output_type": "stream",
     "text": [
      "CPU times: user 3min 21s, sys: 10.4 s, total: 3min 32s\n",
      "Wall time: 3min 37s\n"
     ]
    }
   ],
   "source": [
    "%%time\n",
    "import pandas as pd\n",
    "files = glob.glob('figsharerainfall/*.csv')\n",
    "df = pd.concat((pd.read_csv(file, index_col=0)\n",
    "                .assign(model=re.findall(\"/([^_]*)\", file)[0])\n",
    "                for file in files)\n",
    "              )\n",
    "df.to_csv(\"combined_data.csv\")"
   ]
  }
 ],
 "metadata": {
  "kernelspec": {
   "display_name": "525_dev",
   "language": "python",
   "name": "python3"
  },
  "language_info": {
   "codemirror_mode": {
    "name": "ipython",
    "version": 3
   },
   "file_extension": ".py",
   "mimetype": "text/x-python",
   "name": "python",
   "nbconvert_exporter": "python",
   "pygments_lexer": "ipython3",
   "version": "3.10.10"
  },
  "orig_nbformat": 4
 },
 "nbformat": 4,
 "nbformat_minor": 2
}
