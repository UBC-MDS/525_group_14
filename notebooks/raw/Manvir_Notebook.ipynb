{
 "cells": [
  {
   "cell_type": "code",
   "execution_count": 1,
   "id": "86ea1d91-2815-42b6-a018-faeb32ae5739",
   "metadata": {},
   "outputs": [],
   "source": [
    "import re\n",
    "import os\n",
    "import glob\n",
    "import zipfile\n",
    "import requests\n",
    "from urllib.request import urlretrieve\n",
    "import json\n",
    "import pandas as pd"
   ]
  },
  {
   "cell_type": "markdown",
   "id": "5e496dde-0387-4d6b-a3b6-30f7e29aeb0d",
   "metadata": {},
   "source": [
    "### Downloading the data"
   ]
  },
  {
   "cell_type": "code",
   "execution_count": 2,
   "id": "f568037e-aa40-4813-a5c9-f17ee3b46059",
   "metadata": {},
   "outputs": [
    {
     "name": "stdout",
     "output_type": "stream",
     "text": [
      "C:\\Users\\Manvir\\OneDrive - UBC\\UBC MDS\\22.DSCI_525_web-cloud-comp_students\\525_group_14\n"
     ]
    }
   ],
   "source": [
    "%cd C:/Users/Manvir/OneDrive - UBC/UBC MDS/22.DSCI_525_web-cloud-comp_students/525_group_14"
   ]
  },
  {
   "cell_type": "code",
   "execution_count": null,
   "id": "f81828ef-da97-4b29-9ae0-bed68f304deb",
   "metadata": {},
   "outputs": [],
   "source": [
    "article_id = 14096681\n",
    "url = f\"https://api.figshare.com/v2/articles/{article_id}\"\n",
    "headers = {\"Content-Type\": \"application/json\"}\n",
    "output_directory = \"data/\""
   ]
  },
  {
   "cell_type": "code",
   "execution_count": null,
   "id": "9d60185b-6dbd-4b9f-b697-c05cc3e5a4a2",
   "metadata": {},
   "outputs": [],
   "source": [
    "response = requests.request(\"GET\", url, headers=headers)\n",
    "data = json.loads(response.text)  # this contains all the articles data, feel free to check it out\n",
    "files = data[\"files\"]             # this is just the data about the files, which is what we want\n",
    "files"
   ]
  },
  {
   "cell_type": "code",
   "execution_count": null,
   "id": "035c5d27-724a-497c-99a4-fa46b33f035b",
   "metadata": {},
   "outputs": [],
   "source": [
    "%%time\n",
    "files_to_dl = [\"data.zip\"]  # feel free to add other files here\n",
    "for file in files:\n",
    "    if file[\"name\"] in files_to_dl:\n",
    "        os.makedirs(output_directory, exist_ok=True)\n",
    "        urlretrieve(file[\"download_url\"], output_directory + file[\"name\"])"
   ]
  },
  {
   "cell_type": "code",
   "execution_count": null,
   "id": "e7fe5d73-435b-4a15-a8b3-3bdb2133ff42",
   "metadata": {},
   "outputs": [],
   "source": [
    "with zipfile.ZipFile(os.path.join(output_directory, \"data.zip\"), 'r') as f:\n",
    "    f.extractall(output_directory)"
   ]
  },
  {
   "cell_type": "code",
   "execution_count": null,
   "id": "059356df-ed10-4654-8e11-87a8a7ced967",
   "metadata": {},
   "outputs": [],
   "source": [
    "pwd"
   ]
  },
  {
   "cell_type": "code",
   "execution_count": null,
   "id": "db8e3c89-58af-4409-8b56-c3e61e4fdc1b",
   "metadata": {},
   "outputs": [],
   "source": [
    "%ls -ltr data"
   ]
  },
  {
   "cell_type": "markdown",
   "id": "21f11ea0-f0db-49db-9694-44865dd31391",
   "metadata": {},
   "source": [
    "## Combining the data"
   ]
  },
  {
   "cell_type": "code",
   "execution_count": null,
   "id": "a8bdba45-a09e-48a9-bbdc-29cbdb8a9ad4",
   "metadata": {},
   "outputs": [],
   "source": [
    "%%time\n",
    "\n",
    "## combining the data after moving the SYD data out of the folder\n",
    "\n",
    "\n",
    "# df = pd.DataFrame()\n",
    "files = os.listdir('data')\n",
    "files = [file for file in files if \".csv\" in file]\n",
    "\n",
    "if \"combined_data.csv\" in files:\n",
    "    print(\"removing old combined file\")\n",
    "    os.remove(\"data\\\\combined_data.csv\")\n",
    "    files.remove(\"combined_data.csv\")\n",
    "\n",
    "if \"observed_daily_rainfall_SYD.csv\" in files:\n",
    "    print(\"moving observed_daily_rainfall_SYD.csv\")\n",
    "    os.replace(\"data\\\\observed_daily_rainfall_SYD.csv\",\n",
    "               \"C:\\\\Users\\\\Manvir\\\\OneDrive - UBC\\\\UBC MDS\\\\22.DSCI_525_web-cloud-comp_students\\\\525_group_14\\\\observed_daily_rainfall_SYD.csv\")\n",
    "    files.remove(\"observed_daily_rainfall_SYD.csv\")\n",
    "    \n",
    "df = pd.concat((pd.read_csv(f'data\\\\{file}', index_col=0)\n",
    "                .assign(model=file.split(\"_\")[0])\n",
    "                for file in files)\n",
    "              )\n",
    "df.to_csv(\"data/combined_data.csv\")"
   ]
  },
  {
   "cell_type": "markdown",
   "id": "f8a83f48-6422-4287-983f-56e1918d2156",
   "metadata": {},
   "source": [
    "### Loading combined data to memory"
   ]
  },
  {
   "cell_type": "markdown",
   "id": "235d8e6a-23f6-4f88-986e-361933d669ef",
   "metadata": {},
   "source": [
    "##### 1. Reading only the necessary columns"
   ]
  },
  {
   "cell_type": "code",
   "execution_count": 3,
   "id": "8c3172d3-4d79-40fd-b603-0c9e4a6b0894",
   "metadata": {},
   "outputs": [
    {
     "name": "stdout",
     "output_type": "stream",
     "text": [
      "MPI-ESM1-2-HR       5154240\n",
      "TaiESM1             3541230\n",
      "NorESM2-MM          3541230\n",
      "CMCC-CM2-HR4        3541230\n",
      "CMCC-CM2-SR5        3541230\n",
      "CMCC-ESM2           3541230\n",
      "SAM0-UNICON         3541153\n",
      "FGOALS-f3-L         3219300\n",
      "GFDL-CM4            3219300\n",
      "GFDL-ESM4           3219300\n",
      "EC-Earth3-Veg-LR    3037320\n",
      "MRI-ESM2-0          3037320\n",
      "BCC-CSM2-MR         3035340\n",
      "MIROC6              2070900\n",
      "ACCESS-CM2          1932840\n",
      "ACCESS-ESM1-5       1610700\n",
      "INM-CM5-0           1609650\n",
      "INM-CM4-8           1609650\n",
      "KIOST-ESM           1287720\n",
      "FGOALS-g3           1287720\n",
      "MPI-ESM1-2-LR        966420\n",
      "NESM3                966420\n",
      "AWI-ESM-1-1-LR       966420\n",
      "MPI-ESM-1-2-HAM      966420\n",
      "NorESM2-LM           919800\n",
      "BCC-ESM1             551880\n",
      "CanESM5              551880\n",
      "Name: model, dtype: int64\n",
      "CPU times: total: 2min 17s\n",
      "Wall time: 4min 16s\n"
     ]
    }
   ],
   "source": [
    "%%time\n",
    "use_cols = ['time','rain (mm/day)','model']\n",
    "df = pd.read_csv(\"data/combined_data.csv\",usecols=use_cols)\n",
    "print(df[\"model\"].value_counts())"
   ]
  },
  {
   "cell_type": "markdown",
   "id": "f79c23df-9dec-4605-9ef7-80e3b6e8bece",
   "metadata": {},
   "source": [
    "##### 2.Changing Data Types"
   ]
  },
  {
   "cell_type": "code",
   "execution_count": 5,
   "id": "cd42c55f-c4d9-4b1a-824a-86934185ca5e",
   "metadata": {},
   "outputs": [
    {
     "name": "stdout",
     "output_type": "stream",
     "text": [
      "Memory usage with rain as float64 and time as object: 1499.23 MB\n"
     ]
    }
   ],
   "source": [
    "print(f\"Memory usage with rain as float64 and time as object: {df.memory_usage().sum() / 1e6:.2f} MB\")"
   ]
  },
  {
   "cell_type": "code",
   "execution_count": 7,
   "id": "12097615-3b10-404f-985c-538aae92e18e",
   "metadata": {},
   "outputs": [
    {
     "name": "stdout",
     "output_type": "stream",
     "text": [
      "Memory usage with rain as float32 and time as datetime object: 1249.36 MB\n"
     ]
    }
   ],
   "source": [
    "df['rain (mm/day)'] = df['rain (mm/day)'].astype('float32')\n",
    "df['time'] = pd.to_datetime(df['time']).dt.date\n",
    "print(f\"Memory usage with rain as float32 and time as datetime object: {df.memory_usage().sum() / 1e6:.2f} MB\")"
   ]
  },
  {
   "cell_type": "markdown",
   "id": "7eac6fcd-f42b-4a9f-87a4-c9fac1e651a8",
   "metadata": {},
   "source": [
    "##### 3. Reading data in chunks"
   ]
  },
  {
   "cell_type": "code",
   "execution_count": 8,
   "id": "cdf9c6f0-ea4d-4752-97d9-40110a471413",
   "metadata": {},
   "outputs": [
    {
     "name": "stdout",
     "output_type": "stream",
     "text": [
      "ACCESS-CM2          1932840\n",
      "ACCESS-ESM1-5       1610700\n",
      "AWI-ESM-1-1-LR       966420\n",
      "BCC-CSM2-MR         3035340\n",
      "BCC-ESM1             551880\n",
      "CMCC-CM2-HR4        3541230\n",
      "CMCC-CM2-SR5        3541230\n",
      "CMCC-ESM2           3541230\n",
      "CanESM5              551880\n",
      "EC-Earth3-Veg-LR    3037320\n",
      "FGOALS-f3-L         3219300\n",
      "FGOALS-g3           1287720\n",
      "GFDL-CM4            3219300\n",
      "GFDL-ESM4           3219300\n",
      "INM-CM4-8           1609650\n",
      "INM-CM5-0           1609650\n",
      "KIOST-ESM           1287720\n",
      "MIROC6              2070900\n",
      "MPI-ESM-1-2-HAM      966420\n",
      "MPI-ESM1-2-HR       5154240\n",
      "MPI-ESM1-2-LR        966420\n",
      "MRI-ESM2-0          3037320\n",
      "NESM3                966420\n",
      "NorESM2-LM           919800\n",
      "NorESM2-MM          3541230\n",
      "SAM0-UNICON         3541153\n",
      "TaiESM1             3541230\n",
      "dtype: int32\n",
      "CPU times: total: 2min 5s\n",
      "Wall time: 2min 20s\n"
     ]
    }
   ],
   "source": [
    "%%time\n",
    "counts = pd.Series(dtype=int)\n",
    "for chunk in pd.read_csv(\"data/combined_data.csv\", chunksize=10_000_000):\n",
    "    counts = counts.add(chunk[\"model\"].value_counts(), fill_value=0)\n",
    "print(counts.astype(int))"
   ]
  },
  {
   "cell_type": "markdown",
   "id": "6c48379c-b775-4837-a85c-4e5ab7e00811",
   "metadata": {},
   "source": [
    "### Transferring data from python to R"
   ]
  },
  {
   "cell_type": "code",
   "execution_count": 9,
   "id": "8391cc0f-7fcd-46de-a65a-6c77a6f83792",
   "metadata": {},
   "outputs": [],
   "source": [
    "# !pip install rpy2_arrow\n",
    "import pyarrow.dataset as ds\n",
    "import pyarrow as pa\n",
    "import pandas as pd\n",
    "import pyarrow \n",
    "from pyarrow import csv\n",
    "import rpy2_arrow.pyarrow_rarrow as pyra"
   ]
  },
  {
   "cell_type": "code",
   "execution_count": 10,
   "id": "a26c59ce-5c3c-4afb-964a-6079b6c8fcdf",
   "metadata": {},
   "outputs": [
    {
     "name": "stderr",
     "output_type": "stream",
     "text": [
      "C:\\Users\\Manvir\\miniconda3\\envs\\525_2023\\lib\\site-packages\\rpy2\\robjects\\packages.py:367: UserWarning: The symbol 'quartz' is not in this R namespace/package.\n",
      "  warnings.warn(\n"
     ]
    }
   ],
   "source": [
    "%load_ext rpy2.ipython\n"
   ]
  },
  {
   "cell_type": "code",
   "execution_count": 11,
   "id": "561d548b-fbb6-4e64-a1c3-48c3273ba492",
   "metadata": {},
   "outputs": [
    {
     "name": "stdout",
     "output_type": "stream",
     "text": [
      "CPU times: total: 47.8 s\n",
      "Wall time: 48.9 s\n"
     ]
    }
   ],
   "source": [
    "%%time\n",
    "csv_data = ds.dataset('data/combined_data.csv', format=\"csv\")\n",
    "# Converting the `pyarrow dataset` to a `pyarrow table`\n",
    "table = csv_data.to_table()\n",
    "# Converting a `pyarrow table` to a `rarrow table`\n",
    "r_table = pyra.converter.py2rpy(table)"
   ]
  },
  {
   "cell_type": "markdown",
   "id": "de905661-b0d7-4763-834f-a7ea863042bd",
   "metadata": {},
   "source": [
    "#### EDA in R"
   ]
  },
  {
   "cell_type": "code",
   "execution_count": 20,
   "id": "0f0ca479-8771-419f-bf72-bf9275ac817f",
   "metadata": {},
   "outputs": [
    {
     "name": "stderr",
     "output_type": "stream",
     "text": [
      "R[write to console]: Installing package into 'C:/Users/Manvir/AppData/Local/R/win-library/4.2'\n",
      "(as 'lib' is unspecified)\n",
      "\n"
     ]
    },
    {
     "name": "stdout",
     "output_type": "stream",
     "text": [
      "--- Please select a CRAN mirror for use in this session ---\n"
     ]
    },
    {
     "name": "stderr",
     "output_type": "stream",
     "text": [
      "R[write to console]: trying URL 'https://cloud.r-project.org/bin/windows/contrib/4.2/forcats_1.0.0.zip'\n",
      "\n",
      "R[write to console]: Content type 'application/zip'\n",
      "R[write to console]:  length 429073 bytes (419 KB)\n",
      "\n",
      "R[write to console]: downloaded 419 KB\n",
      "\n",
      "\n"
     ]
    },
    {
     "name": "stdout",
     "output_type": "stream",
     "text": [
      "package 'forcats' successfully unpacked and MD5 sums checked\n",
      "\n",
      "The downloaded binary packages are in\n",
      "\tC:\\Users\\Manvir\\AppData\\Local\\Temp\\RtmpM1u6Op\\downloaded_packages\n"
     ]
    }
   ],
   "source": [
    "# %%R\n",
    "# install.packages('dplyr')\n",
    "# install.packages('ggplot2')\n",
    "# install.packages('forcats')"
   ]
  },
  {
   "cell_type": "code",
   "execution_count": 12,
   "id": "adb396a9-d8de-4758-81c9-dec2f2d0558d",
   "metadata": {},
   "outputs": [
    {
     "name": "stderr",
     "output_type": "stream",
     "text": [
      "R[write to console]: \n",
      "Attaching package: 'dplyr'\n",
      "\n",
      "\n",
      "R[write to console]: The following objects are masked from 'package:stats':\n",
      "\n",
      "    filter, lag\n",
      "\n",
      "\n",
      "R[write to console]: The following objects are masked from 'package:base':\n",
      "\n",
      "    intersect, setdiff, setequal, union\n",
      "\n",
      "\n"
     ]
    }
   ],
   "source": [
    "%%R\n",
    "library(dplyr)\n",
    "library(ggplot2)"
   ]
  },
  {
   "cell_type": "code",
   "execution_count": 13,
   "id": "2e67665b-4beb-4f5e-afa1-4fae03d997a8",
   "metadata": {},
   "outputs": [
    {
     "name": "stdout",
     "output_type": "stream",
     "text": [
      "Table\n",
      "62,467,843 rows x 7 columns\n",
      "$ time      \u001b[3m\u001b[38;5;246m<timestamp[s]>\u001b[39m\u001b[23m 1889-01-01 04:00:00, 1889-01-02 04:00:00, 1889-01-03 ~\n",
      "$ lat_min         \u001b[3m\u001b[38;5;246m<double>\u001b[39m\u001b[23m -36.25, -36.25, -36.25, -36.25, -36.25, -36.25, -36.2~\n",
      "$ lat_max         \u001b[3m\u001b[38;5;246m<double>\u001b[39m\u001b[23m -35, -35, -35, -35, -35, -35, -35, -35, -35, -35, -35~\n",
      "$ lon_min         \u001b[3m\u001b[38;5;246m<double>\u001b[39m\u001b[23m 140.625, 140.625, 140.625, 140.625, 140.625, 140.625,~\n",
      "$ lon_max         \u001b[3m\u001b[38;5;246m<double>\u001b[39m\u001b[23m 142.5, 142.5, 142.5, 142.5, 142.5, 142.5, 142.5, 142.~\n",
      "$ `rain (mm/day)` \u001b[3m\u001b[38;5;246m<double>\u001b[39m\u001b[23m 3.293256e-13, 0.000000e+00, 0.000000e+00, 0.000000e+0~\n",
      "$ model           \u001b[3m\u001b[38;5;246m<string>\u001b[39m\u001b[23m \"ACCESS-CM2\", \"ACCESS-CM2\", \"ACCESS-CM2\", \"ACCESS-CM2~\n"
     ]
    }
   ],
   "source": [
    "%%R -i r_table\n",
    "glimpse(r_table)\n"
   ]
  },
  {
   "cell_type": "code",
   "execution_count": 14,
   "id": "237def28-e13b-4722-a280-d14f86d43bb3",
   "metadata": {},
   "outputs": [
    {
     "name": "stdout",
     "output_type": "stream",
     "text": [
      "\u001b[38;5;246m# A tibble: 27 x 2\u001b[39m\n",
      "   model                  n\n",
      "   \u001b[3m\u001b[38;5;246m<chr>\u001b[39m\u001b[23m              \u001b[3m\u001b[38;5;246m<int>\u001b[39m\u001b[23m\n",
      "\u001b[38;5;250m 1\u001b[39m ACCESS-CM2       1\u001b[4m9\u001b[24m\u001b[4m3\u001b[24m\u001b[4m2\u001b[24m840\n",
      "\u001b[38;5;250m 2\u001b[39m ACCESS-ESM1-5    1\u001b[4m6\u001b[24m\u001b[4m1\u001b[24m\u001b[4m0\u001b[24m700\n",
      "\u001b[38;5;250m 3\u001b[39m AWI-ESM-1-1-LR    \u001b[4m9\u001b[24m\u001b[4m6\u001b[24m\u001b[4m6\u001b[24m420\n",
      "\u001b[38;5;250m 4\u001b[39m BCC-CSM2-MR      3\u001b[4m0\u001b[24m\u001b[4m3\u001b[24m\u001b[4m5\u001b[24m340\n",
      "\u001b[38;5;250m 5\u001b[39m BCC-ESM1          \u001b[4m5\u001b[24m\u001b[4m5\u001b[24m\u001b[4m1\u001b[24m880\n",
      "\u001b[38;5;250m 6\u001b[39m CanESM5           \u001b[4m5\u001b[24m\u001b[4m5\u001b[24m\u001b[4m1\u001b[24m880\n",
      "\u001b[38;5;250m 7\u001b[39m CMCC-CM2-HR4     3\u001b[4m5\u001b[24m\u001b[4m4\u001b[24m\u001b[4m1\u001b[24m230\n",
      "\u001b[38;5;250m 8\u001b[39m CMCC-CM2-SR5     3\u001b[4m5\u001b[24m\u001b[4m4\u001b[24m\u001b[4m1\u001b[24m230\n",
      "\u001b[38;5;250m 9\u001b[39m CMCC-ESM2        3\u001b[4m5\u001b[24m\u001b[4m4\u001b[24m\u001b[4m1\u001b[24m230\n",
      "\u001b[38;5;250m10\u001b[39m EC-Earth3-Veg-LR 3\u001b[4m0\u001b[24m\u001b[4m3\u001b[24m\u001b[4m7\u001b[24m320\n",
      "\u001b[38;5;250m11\u001b[39m FGOALS-f3-L      3\u001b[4m2\u001b[24m\u001b[4m1\u001b[24m\u001b[4m9\u001b[24m300\n",
      "\u001b[38;5;250m12\u001b[39m FGOALS-g3        1\u001b[4m2\u001b[24m\u001b[4m8\u001b[24m\u001b[4m7\u001b[24m720\n",
      "\u001b[38;5;250m13\u001b[39m GFDL-CM4         3\u001b[4m2\u001b[24m\u001b[4m1\u001b[24m\u001b[4m9\u001b[24m300\n",
      "\u001b[38;5;250m14\u001b[39m GFDL-ESM4        3\u001b[4m2\u001b[24m\u001b[4m1\u001b[24m\u001b[4m9\u001b[24m300\n",
      "\u001b[38;5;250m15\u001b[39m INM-CM4-8        1\u001b[4m6\u001b[24m\u001b[4m0\u001b[24m\u001b[4m9\u001b[24m650\n",
      "\u001b[38;5;250m16\u001b[39m INM-CM5-0        1\u001b[4m6\u001b[24m\u001b[4m0\u001b[24m\u001b[4m9\u001b[24m650\n",
      "\u001b[38;5;250m17\u001b[39m KIOST-ESM        1\u001b[4m2\u001b[24m\u001b[4m8\u001b[24m\u001b[4m7\u001b[24m720\n",
      "\u001b[38;5;250m18\u001b[39m MIROC6           2\u001b[4m0\u001b[24m\u001b[4m7\u001b[24m\u001b[4m0\u001b[24m900\n",
      "\u001b[38;5;250m19\u001b[39m MPI-ESM-1-2-HAM   \u001b[4m9\u001b[24m\u001b[4m6\u001b[24m\u001b[4m6\u001b[24m420\n",
      "\u001b[38;5;250m20\u001b[39m MPI-ESM1-2-HR    5\u001b[4m1\u001b[24m\u001b[4m5\u001b[24m\u001b[4m4\u001b[24m240\n",
      "\u001b[38;5;250m21\u001b[39m MPI-ESM1-2-LR     \u001b[4m9\u001b[24m\u001b[4m6\u001b[24m\u001b[4m6\u001b[24m420\n",
      "\u001b[38;5;250m22\u001b[39m MRI-ESM2-0       3\u001b[4m0\u001b[24m\u001b[4m3\u001b[24m\u001b[4m7\u001b[24m320\n",
      "\u001b[38;5;250m23\u001b[39m NESM3             \u001b[4m9\u001b[24m\u001b[4m6\u001b[24m\u001b[4m6\u001b[24m420\n",
      "\u001b[38;5;250m24\u001b[39m NorESM2-LM        \u001b[4m9\u001b[24m\u001b[4m1\u001b[24m\u001b[4m9\u001b[24m800\n",
      "\u001b[38;5;250m25\u001b[39m NorESM2-MM       3\u001b[4m5\u001b[24m\u001b[4m4\u001b[24m\u001b[4m1\u001b[24m230\n",
      "\u001b[38;5;250m26\u001b[39m SAM0-UNICON      3\u001b[4m5\u001b[24m\u001b[4m4\u001b[24m\u001b[4m1\u001b[24m153\n",
      "\u001b[38;5;250m27\u001b[39m TaiESM1          3\u001b[4m5\u001b[24m\u001b[4m4\u001b[24m\u001b[4m1\u001b[24m230\n"
     ]
    }
   ],
   "source": [
    "%%R\n",
    "r_df <- as.data.frame(r_table)\n",
    "\n",
    "print(r_df |> count(model),n=30)"
   ]
  },
  {
   "cell_type": "code",
   "execution_count": 21,
   "id": "a32bd612-e733-4ff1-ac47-51986a24d458",
   "metadata": {},
   "outputs": [
    {
     "data": {
      "image/png": "[encoded data removed]",
      "text/plain": [
       "<IPython.core.display.Image object>"
      ]
     },
     "metadata": {},
     "output_type": "display_data"
    }
   ],
   "source": [
    "%%R\n",
    "r_df |> ggplot(aes(x = forcats::fct_infreq(model))) + geom_bar(fill = 'red') + \n",
    "theme(axis.text.x = element_text(angle = 90, vjust = 0.5, hjust=1)) +\n",
    "labs(x = 'Model',y='Count')    "
   ]
  }
 ],
 "metadata": {
  "kernelspec": {
   "display_name": "Python [conda env:525_2023]",
   "language": "python",
   "name": "conda-env-525_2023-py"
  },
  "language_info": {
   "codemirror_mode": {
    "name": "ipython",
    "version": 3
   },
   "file_extension": ".py",
   "mimetype": "text/x-python",
   "name": "python",
   "nbconvert_exporter": "python",
   "pygments_lexer": "ipython3",
   "version": "3.10.10"
  }
 },
 "nbformat": 4,
 "nbformat_minor": 5
}
